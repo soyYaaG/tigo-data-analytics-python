{
 "cells": [
  {
   "cell_type": "markdown",
   "metadata": {},
   "source": [
    "# Variables"
   ]
  },
  {
   "cell_type": "markdown",
   "metadata": {},
   "source": [
    "Para declarar una variable en Python, debemos crear el nombre y luego asignar su valor. \n",
    "\n",
    "**Ejemplo**\n",
    "```\n",
    "variable_1 = 1\n",
    "```\n",
    "\n",
    "Si queremos mostrar el valor de la variable, debemos imprimir el dato con la función/método print.\n",
    "```\n",
    "print(variable_1)\n",
    "```\n",
    "En la consola nos mostrará *1*. Es el valor incicial que le asignamos a nuestra variables."
   ]
  },
  {
   "cell_type": "markdown",
   "metadata": {},
   "source": [
    "## Ejemplo"
   ]
  },
  {
   "cell_type": "code",
   "execution_count": 1,
   "metadata": {},
   "outputs": [
    {
     "name": "stdout",
     "output_type": "stream",
     "text": [
      "2\n"
     ]
    }
   ],
   "source": [
    "variable_1 = 2\n",
    "print(variable_1)"
   ]
  },
  {
   "cell_type": "code",
   "execution_count": 2,
   "metadata": {},
   "outputs": [
    {
     "name": "stdout",
     "output_type": "stream",
     "text": [
      "Data Analytics\n"
     ]
    }
   ],
   "source": [
    "variable_2 = \"Data Analytics\"\n",
    "print(variable_2)"
   ]
  },
  {
   "cell_type": "markdown",
   "metadata": {},
   "source": [
    "En python no es necesario declarar las variables con ningún tipo de datos en particular, inluso se puede cambiar el tipo de después de que se haya establecido."
   ]
  },
  {
   "cell_type": "code",
   "execution_count": 3,
   "metadata": {},
   "outputs": [
    {
     "name": "stdout",
     "output_type": "stream",
     "text": [
      "Data Analytics\n"
     ]
    }
   ],
   "source": [
    "variable = 56\n",
    "variable = 'Data Analytics'\n",
    "print(variable)"
   ]
  },
  {
   "cell_type": "markdown",
   "metadata": {},
   "source": [
    "Las variables de cadena puede ser declaradas mediante comillas simples o dobles."
   ]
  },
  {
   "cell_type": "code",
   "execution_count": 4,
   "metadata": {},
   "outputs": [
    {
     "name": "stdout",
     "output_type": "stream",
     "text": [
      "Data Analytics\n",
      "Tigo Data Analytics\n"
     ]
    }
   ],
   "source": [
    "variable = \"Data Analytics\"\n",
    "print(variable)\n",
    "variable = 'Tigo Data Analytics'\n",
    "print(variable)"
   ]
  },
  {
   "cell_type": "markdown",
   "metadata": {},
   "source": [
    "## Nombre de variables\n",
    "\n",
    "Una variable puede tener un nombre corto -como a y b- o un nombre más descriptivo -edad, nombre, apellido-\n",
    "\n",
    "### Condiciones para crear variables\n",
    "- El nombre de una variable debe empezar con una letra o guion bajo\n",
    "- El nombre de una variable no debe empezar con un número\n",
    "- El nombre de una variable solo puede contener caracteres alfanuméricos y guion bajo (A-z, 0-9 y _)\n",
    "- Los nombres de las variables distiguen entre mayúscula y minúscula\n",
    "\n",
    "#### Nombre de variables correctas\n",
    "\n",
    "```\n",
    "mivariable = \"Data Analytics\"\n",
    "mi_variable = \"Data Analytics\"\n",
    "_mi_variable_ = \"Data Analytics\"\n",
    "miVariable = \"Data Analytics\"\n",
    "MIVARIABLE = \"Data Analytics\"\n",
    "mivariable1 = \"Data Analytics\"\n",
    "```\n",
    "\n",
    "#### Nombre de variables no correctas\n",
    "\n",
    "```\n",
    "1mivariable = \"Data Analytics\"\n",
    "mi-variable = \"Data Analytics\"\n",
    "mi variable = \"Data Analytics\"\n",
    "mi*variable = \"Data Analytics\"\n",
    "```"
   ]
  },
  {
   "cell_type": "markdown",
   "metadata": {},
   "source": [
    "## Ejemplo"
   ]
  },
  {
   "cell_type": "code",
   "execution_count": 5,
   "metadata": {},
   "outputs": [],
   "source": [
    "mivariable = \"Data Analytics\"\n",
    "mi_variable = \"Data Analytics\"\n",
    "_mi_variable_ = \"Data Analytics\"\n",
    "miVariable = \"Data Analytics\"\n",
    "MIVARIABLE = \"Data Analytics\"\n",
    "mivariable1 = \"Data Analytics\""
   ]
  },
  {
   "cell_type": "markdown",
   "metadata": {},
   "source": [
    "Cuando ejecutamos el fragmento de codigo anterior, lo compila exitosamente."
   ]
  },
  {
   "cell_type": "code",
   "execution_count": 6,
   "metadata": {},
   "outputs": [
    {
     "ename": "SyntaxError",
     "evalue": "invalid syntax (<ipython-input-6-ff1e106c91a5>, line 1)",
     "output_type": "error",
     "traceback": [
      "\u001b[1;36m  File \u001b[1;32m\"<ipython-input-6-ff1e106c91a5>\"\u001b[1;36m, line \u001b[1;32m1\u001b[0m\n\u001b[1;33m    1mivariable = \"Data Analytics\"\u001b[0m\n\u001b[1;37m              ^\u001b[0m\n\u001b[1;31mSyntaxError\u001b[0m\u001b[1;31m:\u001b[0m invalid syntax\n"
     ]
    }
   ],
   "source": [
    "1mivariable = \"Data Analytics\"\n",
    "mi-variable = \"Data Analytics\"\n",
    "mi variable = \"Data Analytics\"\n",
    "mi*variable = \"Data Analytics\""
   ]
  },
  {
   "cell_type": "markdown",
   "metadata": {},
   "source": [
    "Cuando ejecutamos el fragmento de codigo anterior, nos \"arroja\" un error, ya que los nombres de las variables no son correctos."
   ]
  },
  {
   "cell_type": "markdown",
   "metadata": {},
   "source": [
    "## Asignar valor a múltiples variables\n",
    "\n",
    "Python permite asignar múltiples valores a variable en una línea; también puede asignar el mismo valor a múltiples variables en una línea."
   ]
  },
  {
   "cell_type": "markdown",
   "metadata": {},
   "source": [
    "## Ejemplo"
   ]
  },
  {
   "cell_type": "code",
   "execution_count": 7,
   "metadata": {},
   "outputs": [
    {
     "name": "stdout",
     "output_type": "stream",
     "text": [
      "Data Analytics\n",
      "2\n",
      "Tigo\n"
     ]
    }
   ],
   "source": [
    "# asignar múltiples valores a varias variables en una sola linea\n",
    "a, b, c = \"Data Analytics\", 2, \"Tigo\"\n",
    "print(a)\n",
    "print(b)\n",
    "print(c)"
   ]
  },
  {
   "cell_type": "code",
   "execution_count": 8,
   "metadata": {},
   "outputs": [
    {
     "name": "stdout",
     "output_type": "stream",
     "text": [
      "Analytics\n",
      "Analytics\n",
      "Analytics\n"
     ]
    }
   ],
   "source": [
    "# asignar el mismo valor a múltiples variables en una sola linea\n",
    "x = y = z = \"Analytics\"\n",
    "print(x)\n",
    "print(y)\n",
    "print(z)"
   ]
  }
 ],
 "metadata": {
  "kernelspec": {
   "display_name": "Python 3",
   "language": "python",
   "name": "python3"
  },
  "language_info": {
   "codemirror_mode": {
    "name": "ipython",
    "version": 3
   },
   "file_extension": ".py",
   "mimetype": "text/x-python",
   "name": "python",
   "nbconvert_exporter": "python",
   "pygments_lexer": "ipython3",
   "version": "3.7.6"
  }
 },
 "nbformat": 4,
 "nbformat_minor": 4
}
