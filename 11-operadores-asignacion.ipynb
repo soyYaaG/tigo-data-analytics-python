{
 "cells": [
  {
   "cell_type": "markdown",
   "metadata": {},
   "source": [
    "# Operadores de asignacion\n",
    "\n",
    "Lo operadores de asignación se utilizan para asignar valores a las variables.\n",
    "\n",
    "|Operador|Descripción|Ejemplo|\n",
    "|--------|-----------|-------|\n",
    "| = | Es el más simple de todos... asigna a la variable del lado izquierdo cualquier variable o resultado del lado derecho | ``x = 9`` |\n",
    "| += | Suma a la variable del lado izquierdo el valor del lado derecho | ``x = 9`` <br /> ``x += 10`` <br /> ``x ya equivale a 19`` |\n",
    "| -= | Resta a la variable del lado izquierdo el valor del lado derecho | ``x = 10`` <br /> ``x -= 5`` <br /> ``x ya equivale a 5`` |\n",
    "| *= | Multiplica a la variable del lado izquierdo el valor del lado derecho | ``x = 7`` <br /> ``x *= 3`` <br /> ``x ya equivale a 21`` |\n",
    "| /= | Divide a la variable del lado izquierdo el valor del lado derecho | ``x = 46`` <br /> ``x /= 3`` <br /> ``x ya equivale a 15.33333333`` |\n",
    "| %= | Devuelve el residuo de la división a la variable del lado izquierdo el valor del lado derecho | ``x = 7`` <br /> ``x %= 3`` <br /> ``x ya equivale a 1`` |\n",
    "| //= | Calcula la división entera a la variable del lado izquierdo el valor del lado derecho. | ``x = 46`` <br /> ``x //= 3`` <br /> ``x ya equivale a 15`` |\n",
    "| **= | Calcula el exponente a la variable del lado izquierdo el valor del lado derecho. | ``x = 3`` <br /> ``x **= 3`` <br /> ``x ya equivale a 27`` |"
   ]
  },
  {
   "cell_type": "markdown",
   "metadata": {},
   "source": [
    "## Ejemplo"
   ]
  },
  {
   "cell_type": "code",
   "execution_count": 1,
   "metadata": {},
   "outputs": [
    {
     "data": {
      "text/plain": [
       "9"
      ]
     },
     "execution_count": 1,
     "metadata": {},
     "output_type": "execute_result"
    }
   ],
   "source": [
    "# = igual\n",
    "x = 9\n",
    "x"
   ]
  },
  {
   "cell_type": "code",
   "execution_count": 2,
   "metadata": {},
   "outputs": [
    {
     "data": {
      "text/plain": [
       "19"
      ]
     },
     "execution_count": 2,
     "metadata": {},
     "output_type": "execute_result"
    }
   ],
   "source": [
    "# += suma\n",
    "x = 9\n",
    "x += 10\n",
    "x"
   ]
  },
  {
   "cell_type": "code",
   "execution_count": 3,
   "metadata": {},
   "outputs": [
    {
     "data": {
      "text/plain": [
       "5"
      ]
     },
     "execution_count": 3,
     "metadata": {},
     "output_type": "execute_result"
    }
   ],
   "source": [
    "# -= resta\n",
    "x = 10\n",
    "x -= 5\n",
    "x"
   ]
  },
  {
   "cell_type": "code",
   "execution_count": 4,
   "metadata": {},
   "outputs": [
    {
     "data": {
      "text/plain": [
       "21"
      ]
     },
     "execution_count": 4,
     "metadata": {},
     "output_type": "execute_result"
    }
   ],
   "source": [
    "# *= multiplicación\n",
    "x = 7\n",
    "x *= 3\n",
    "x"
   ]
  },
  {
   "cell_type": "code",
   "execution_count": 5,
   "metadata": {},
   "outputs": [
    {
     "data": {
      "text/plain": [
       "15.333333333333334"
      ]
     },
     "execution_count": 5,
     "metadata": {},
     "output_type": "execute_result"
    }
   ],
   "source": [
    "# /= división\n",
    "x = 46\n",
    "x /= 3\n",
    "x"
   ]
  },
  {
   "cell_type": "code",
   "execution_count": 6,
   "metadata": {},
   "outputs": [
    {
     "data": {
      "text/plain": [
       "1"
      ]
     },
     "execution_count": 6,
     "metadata": {},
     "output_type": "execute_result"
    }
   ],
   "source": [
    "# %= módulo\n",
    "x = 7\n",
    "x %= 3\n",
    "x"
   ]
  },
  {
   "cell_type": "code",
   "execution_count": 7,
   "metadata": {},
   "outputs": [
    {
     "data": {
      "text/plain": [
       "15"
      ]
     },
     "execution_count": 7,
     "metadata": {},
     "output_type": "execute_result"
    }
   ],
   "source": [
    "# //= división entera\n",
    "x = 46\n",
    "x //= 3\n",
    "x"
   ]
  },
  {
   "cell_type": "code",
   "execution_count": 8,
   "metadata": {},
   "outputs": [
    {
     "data": {
      "text/plain": [
       "27"
      ]
     },
     "execution_count": 8,
     "metadata": {},
     "output_type": "execute_result"
    }
   ],
   "source": [
    "# **= exponente\n",
    "x = 3\n",
    "x **= 3\n",
    "x"
   ]
  }
 ],
 "metadata": {
  "kernelspec": {
   "display_name": "Python 3",
   "language": "python",
   "name": "python3"
  },
  "language_info": {
   "codemirror_mode": {
    "name": "ipython",
    "version": 3
   },
   "file_extension": ".py",
   "mimetype": "text/x-python",
   "name": "python",
   "nbconvert_exporter": "python",
   "pygments_lexer": "ipython3",
   "version": "3.7.6"
  }
 },
 "nbformat": 4,
 "nbformat_minor": 4
}
