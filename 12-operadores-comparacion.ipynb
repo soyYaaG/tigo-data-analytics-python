{
 "cells": [
  {
   "cell_type": "markdown",
   "metadata": {},
   "source": [
    "# Operadores de Comparación\n",
    "\n",
    "Los operadores de comparación se utilizan para comparar dos valores.\n",
    "\n",
    "|Operador|Nombre|Descripción|Ejemplo|\n",
    "|--------|------|-----------|-------|\n",
    "| == | Igual | Evalua que los valores sean iguales para varios tipos de datos. | ``5 == 6`` <br /> ``False`` |\n",
    "| != | No es igual | Evalua si los valores son distintos. | ``5 != 6`` <br /> ``True`` |\n",
    "| > | Mayor qué | Evalua si el valor del lado izquierdo es mayor que el valor del lado derecho. | ``5 > 6`` <br /> ``False`` |\n",
    "| < | Menor qué | Evalua si el valor del lado izquierdo es menor que el valor del lado derecho. | ``5 < 6`` <br /> ``True`` |\n",
    "| >= | Mayor ó igual a | Evalua si el valor del lado izquierdo es mayor o igual que el valor del lado derecho. | ``5 >= 6`` <br /> ``False`` |\n",
    "| <= | Menor ó igual a | Evalua si el valor del lado izquierdo es menor o igual que el valor del lado derecho. | ``5 <= 6`` <br /> ``True`` |\n"
   ]
  },
  {
   "cell_type": "markdown",
   "metadata": {},
   "source": [
    "## Ejemplo"
   ]
  },
  {
   "cell_type": "code",
   "execution_count": 1,
   "metadata": {},
   "outputs": [
    {
     "data": {
      "text/plain": [
       "False"
      ]
     },
     "execution_count": 1,
     "metadata": {},
     "output_type": "execute_result"
    }
   ],
   "source": [
    "# igual ==\n",
    "5 == 6"
   ]
  },
  {
   "cell_type": "code",
   "execution_count": 2,
   "metadata": {},
   "outputs": [
    {
     "data": {
      "text/plain": [
       "True"
      ]
     },
     "execution_count": 2,
     "metadata": {},
     "output_type": "execute_result"
    }
   ],
   "source": [
    "# no es igual\n",
    "5 != 6"
   ]
  },
  {
   "cell_type": "code",
   "execution_count": 3,
   "metadata": {},
   "outputs": [
    {
     "data": {
      "text/plain": [
       "False"
      ]
     },
     "execution_count": 3,
     "metadata": {},
     "output_type": "execute_result"
    }
   ],
   "source": [
    "# mayor qué\n",
    "5 > 6"
   ]
  },
  {
   "cell_type": "code",
   "execution_count": 4,
   "metadata": {},
   "outputs": [
    {
     "data": {
      "text/plain": [
       "True"
      ]
     },
     "execution_count": 4,
     "metadata": {},
     "output_type": "execute_result"
    }
   ],
   "source": [
    "# menor qué\n",
    "5 < 6"
   ]
  },
  {
   "cell_type": "code",
   "execution_count": 5,
   "metadata": {},
   "outputs": [
    {
     "data": {
      "text/plain": [
       "False"
      ]
     },
     "execution_count": 5,
     "metadata": {},
     "output_type": "execute_result"
    }
   ],
   "source": [
    "# mayor ó igual a\n",
    "5 >= 6"
   ]
  },
  {
   "cell_type": "code",
   "execution_count": 6,
   "metadata": {},
   "outputs": [
    {
     "data": {
      "text/plain": [
       "True"
      ]
     },
     "execution_count": 6,
     "metadata": {},
     "output_type": "execute_result"
    }
   ],
   "source": [
    "# menor ó igual a\n",
    "5 <= 6"
   ]
  }
 ],
 "metadata": {
  "kernelspec": {
   "display_name": "Python 3",
   "language": "python",
   "name": "python3"
  },
  "language_info": {
   "codemirror_mode": {
    "name": "ipython",
    "version": 3
   },
   "file_extension": ".py",
   "mimetype": "text/x-python",
   "name": "python",
   "nbconvert_exporter": "python",
   "pygments_lexer": "ipython3",
   "version": "3.7.6"
  }
 },
 "nbformat": 4,
 "nbformat_minor": 4
}
