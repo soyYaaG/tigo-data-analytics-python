{
 "cells": [
  {
   "cell_type": "markdown",
   "metadata": {},
   "source": [
    "# Casting\n",
    "\n",
    "Puede existe que en ocasaciones se desee especificar el tipo en una variable. Esto lo podemos hacer con *casting*. Python es un lenguaje orientado a objeto y como tal, utiliza clases para difinir tipos de datos.\n",
    "\n",
    "La conversión en python se reliza utuilizando funciones de constructor:\n",
    "\n",
    "- **int()** Construye un número entero.\n",
    "- **float()** Construye un número flotante.\n",
    "- **str()** Construye una cadena a partir de una amplia variedad de tipos de datos, incluidas cadenas, enteros y flotantes."
   ]
  },
  {
   "cell_type": "markdown",
   "metadata": {},
   "source": [
    "## Ejemplo"
   ]
  },
  {
   "cell_type": "code",
   "execution_count": 1,
   "metadata": {},
   "outputs": [
    {
     "name": "stdout",
     "output_type": "stream",
     "text": [
      "67\n",
      "134\n",
      "5\n"
     ]
    }
   ],
   "source": [
    "# convertir a entero\n",
    "a = int(\"67\") # a será 67\n",
    "b = int(134.6) # b será 134\n",
    "c = int(5) # c será 5\n",
    "# mostar variables\n",
    "print(a)\n",
    "print(b)\n",
    "print(c)"
   ]
  },
  {
   "cell_type": "code",
   "execution_count": 2,
   "metadata": {},
   "outputs": [
    {
     "name": "stdout",
     "output_type": "stream",
     "text": [
      "67.78\n",
      "134.0\n",
      "5.6\n"
     ]
    }
   ],
   "source": [
    "# convertir a float\n",
    "a = float(\"67.78\") # a será 67.78\n",
    "b = float(134) # b será 134.0\n",
    "c = float(5.6) # c será 5.6\n",
    "# mostar variables\n",
    "print(a)\n",
    "print(b)\n",
    "print(c)"
   ]
  },
  {
   "cell_type": "code",
   "execution_count": 3,
   "metadata": {},
   "outputs": [
    {
     "name": "stdout",
     "output_type": "stream",
     "text": [
      "Data Analytics\n",
      "134\n",
      "5.6\n"
     ]
    }
   ],
   "source": [
    "# convertir a str\n",
    "a = str(\"Data Analytics\") # a será 'Data Analytics'\n",
    "b = str(134) # b será '134'\n",
    "c = str(5.6) # c será '5.6'\n",
    "# mostar variables\n",
    "print(a)\n",
    "print(b)\n",
    "print(c)"
   ]
  }
 ],
 "metadata": {
  "kernelspec": {
   "display_name": "Python 3",
   "language": "python",
   "name": "python3"
  },
  "language_info": {
   "codemirror_mode": {
    "name": "ipython",
    "version": 3
   },
   "file_extension": ".py",
   "mimetype": "text/x-python",
   "name": "python",
   "nbconvert_exporter": "python",
   "pygments_lexer": "ipython3",
   "version": "3.7.6"
  }
 },
 "nbformat": 4,
 "nbformat_minor": 4
}
