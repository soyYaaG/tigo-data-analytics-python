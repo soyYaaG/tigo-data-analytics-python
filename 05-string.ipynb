{
 "cells": [
  {
   "cell_type": "markdown",
   "metadata": {},
   "source": [
    "# String\n",
    "\n",
    "Las cadenas en python están rodeados por comillas simples o comillas dobles.\n",
    "\n",
    "```\n",
    "'Hola' es lo mismo que \"Hola\"\n",
    "```\n",
    "\n",
    "Se puede mostar la cadena directamente con la función *print()*\n",
    "\n",
    "```\n",
    "print(\"Hola Mundo\")\n",
    "```"
   ]
  },
  {
   "cell_type": "markdown",
   "metadata": {},
   "source": [
    "## Ejemplo"
   ]
  },
  {
   "cell_type": "code",
   "execution_count": 1,
   "metadata": {},
   "outputs": [
    {
     "name": "stdout",
     "output_type": "stream",
     "text": [
      "Hola Data Analytics\n"
     ]
    }
   ],
   "source": [
    "# cadena de texto\n",
    "a = \"Hola Data Analytics\"\n",
    "print(a)"
   ]
  },
  {
   "cell_type": "code",
   "execution_count": 2,
   "metadata": {},
   "outputs": [
    {
     "name": "stdout",
     "output_type": "stream",
     "text": [
      "Lorem ipsum dolor sit amet,\n",
      "consectetur adipiscing elit,\n",
      "sed do eiusmod tempor incididunt\n",
      "ut labore et dolore magna aliqua.\n",
      "\n"
     ]
    }
   ],
   "source": [
    "# cadena de texto multilinea\n",
    "a = \"\"\"Lorem ipsum dolor sit amet,\n",
    "consectetur adipiscing elit,\n",
    "sed do eiusmod tempor incididunt\n",
    "ut labore et dolore magna aliqua.\n",
    "\"\"\"\n",
    "print(a)"
   ]
  },
  {
   "cell_type": "markdown",
   "metadata": {},
   "source": [
    "## Concatenar cadena de texto\n",
    "\n",
    "En python existe 3 forma de contatenar."
   ]
  },
  {
   "cell_type": "markdown",
   "metadata": {},
   "source": [
    "## Ejemplo"
   ]
  },
  {
   "cell_type": "code",
   "execution_count": 3,
   "metadata": {},
   "outputs": [
    {
     "data": {
      "text/plain": [
       "'Tu nombre es: Yerson y tienes 26 año(s)'"
      ]
     },
     "execution_count": 3,
     "metadata": {},
     "output_type": "execute_result"
    }
   ],
   "source": [
    "# concatenar con el simbolo +\n",
    "nombre = \"Yerson\"\n",
    "edad = 26\n",
    "concatenacion = \"Tu nombre es: \" + nombre + \" y tienes \" + str(edad) + \" año(s)\"\n",
    "concatenacion"
   ]
  },
  {
   "cell_type": "code",
   "execution_count": 4,
   "metadata": {},
   "outputs": [
    {
     "data": {
      "text/plain": [
       "'Tu nombre es: Yerson y tienes: 26 año(s)'"
      ]
     },
     "execution_count": 4,
     "metadata": {},
     "output_type": "execute_result"
    }
   ],
   "source": [
    "# concatenar con el método format\n",
    "concatenacion = \"Tu nombre es: {0} y tienes: {1} año(s)\".format(nombre, edad)\n",
    "concatenacion"
   ]
  },
  {
   "cell_type": "code",
   "execution_count": 5,
   "metadata": {},
   "outputs": [
    {
     "data": {
      "text/plain": [
       "'Tu nombre es: Yerson y tienes 26 año(s)'"
      ]
     },
     "execution_count": 5,
     "metadata": {},
     "output_type": "execute_result"
    }
   ],
   "source": [
    "# concatenar con la cadena F\n",
    "concatenacion = f\"Tu nombre es: {nombre} y tienes {edad} año(s)\"\n",
    "concatenacion"
   ]
  },
  {
   "cell_type": "markdown",
   "metadata": {},
   "source": [
    "## Métodos en string\n",
    "\n",
    "Python tiene el comando ``dir`` que nos ayuda a saber qué método tenemos disponible para ``x`` tipo de variables. Por ejemplo, queremos saber los método que tiene string usuamos ``dir(\"hola\")``"
   ]
  },
  {
   "cell_type": "code",
   "execution_count": 6,
   "metadata": {},
   "outputs": [
    {
     "data": {
      "text/plain": [
       "['__add__',\n",
       " '__class__',\n",
       " '__contains__',\n",
       " '__delattr__',\n",
       " '__dir__',\n",
       " '__doc__',\n",
       " '__eq__',\n",
       " '__format__',\n",
       " '__ge__',\n",
       " '__getattribute__',\n",
       " '__getitem__',\n",
       " '__getnewargs__',\n",
       " '__gt__',\n",
       " '__hash__',\n",
       " '__init__',\n",
       " '__init_subclass__',\n",
       " '__iter__',\n",
       " '__le__',\n",
       " '__len__',\n",
       " '__lt__',\n",
       " '__mod__',\n",
       " '__mul__',\n",
       " '__ne__',\n",
       " '__new__',\n",
       " '__reduce__',\n",
       " '__reduce_ex__',\n",
       " '__repr__',\n",
       " '__rmod__',\n",
       " '__rmul__',\n",
       " '__setattr__',\n",
       " '__sizeof__',\n",
       " '__str__',\n",
       " '__subclasshook__',\n",
       " 'capitalize',\n",
       " 'casefold',\n",
       " 'center',\n",
       " 'count',\n",
       " 'encode',\n",
       " 'endswith',\n",
       " 'expandtabs',\n",
       " 'find',\n",
       " 'format',\n",
       " 'format_map',\n",
       " 'index',\n",
       " 'isalnum',\n",
       " 'isalpha',\n",
       " 'isascii',\n",
       " 'isdecimal',\n",
       " 'isdigit',\n",
       " 'isidentifier',\n",
       " 'islower',\n",
       " 'isnumeric',\n",
       " 'isprintable',\n",
       " 'isspace',\n",
       " 'istitle',\n",
       " 'isupper',\n",
       " 'join',\n",
       " 'ljust',\n",
       " 'lower',\n",
       " 'lstrip',\n",
       " 'maketrans',\n",
       " 'partition',\n",
       " 'replace',\n",
       " 'rfind',\n",
       " 'rindex',\n",
       " 'rjust',\n",
       " 'rpartition',\n",
       " 'rsplit',\n",
       " 'rstrip',\n",
       " 'split',\n",
       " 'splitlines',\n",
       " 'startswith',\n",
       " 'strip',\n",
       " 'swapcase',\n",
       " 'title',\n",
       " 'translate',\n",
       " 'upper',\n",
       " 'zfill']"
      ]
     },
     "execution_count": 6,
     "metadata": {},
     "output_type": "execute_result"
    }
   ],
   "source": [
    "# mostrar los métodos de un string\n",
    "dir(\"Hola\")"
   ]
  },
  {
   "cell_type": "markdown",
   "metadata": {},
   "source": [
    "¡Podemos observar que existen muchos! Vamos a explicar algunos métodos, \"los más usuados\"\n",
    "\n",
    "- **upper()** Convierte el texto a mayúscula\n",
    "- **lower()** Convierte el texto a minúscula\n",
    "- **strip()** Elimina cualquier espacio en blanco desde el principio o el final\n",
    "- **split()** Divide la cadena en subcadenas si encuentra instancias del separador \n",
    "- **replace()** Reemplaza una cadena con otra cadena."
   ]
  },
  {
   "cell_type": "markdown",
   "metadata": {},
   "source": [
    "## Ejemplo"
   ]
  },
  {
   "cell_type": "code",
   "execution_count": 7,
   "metadata": {},
   "outputs": [
    {
     "name": "stdout",
     "output_type": "stream",
     "text": [
      "Cadena en minúscula:  tigo analytics \n",
      "Cadena en minúscula:  TIGO ANALYTICS \n",
      "Cadena en minúscula: Tigo Analytics\n",
      "Cadena en minúscula: Data Analytics\n"
     ]
    }
   ],
   "source": [
    "texto = \" Tigo Analytics \"\n",
    "# convertir el texto todo en minúscula\n",
    "print(f\"Cadena en minúscula: {texto.lower()}\")\n",
    "# convertir el texto todo en mayúscula\n",
    "print(f\"Cadena en minúscula: {texto.upper()}\")\n",
    "# eliminar espacio en blanco al principio y/o al final\n",
    "texto = texto.strip()\n",
    "print(f\"Cadena en minúscula: {texto.strip()}\")\n",
    "# reemplazar la palabra Tigo por Data\n",
    "texto = texto.replace('Tigo', 'Data')\n",
    "print(f\"Cadena en minúscula: {texto}\")"
   ]
  },
  {
   "cell_type": "code",
   "execution_count": 8,
   "metadata": {},
   "outputs": [
    {
     "data": {
      "text/plain": [
       "['Data', 'Analytics']"
      ]
     },
     "execution_count": 8,
     "metadata": {},
     "output_type": "execute_result"
    }
   ],
   "source": [
    "# separar texto por espacios\n",
    "texto_separado = texto.split(\" \")\n",
    "texto_separado"
   ]
  },
  {
   "cell_type": "markdown",
   "metadata": {},
   "source": [
    "<a href=\"https://www.w3schools.com/python/python_strings.asp\" target=\"_blank\" title=\"Métodos string\">Aquí</a> podemos ver todos las descripciones de los método en un string"
   ]
  }
 ],
 "metadata": {
  "kernelspec": {
   "display_name": "Python 3",
   "language": "python",
   "name": "python3"
  },
  "language_info": {
   "codemirror_mode": {
    "name": "ipython",
    "version": 3
   },
   "file_extension": ".py",
   "mimetype": "text/x-python",
   "name": "python",
   "nbconvert_exporter": "python",
   "pygments_lexer": "ipython3",
   "version": "3.7.6"
  }
 },
 "nbformat": 4,
 "nbformat_minor": 4
}
