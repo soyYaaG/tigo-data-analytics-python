{
 "cells": [
  {
   "cell_type": "markdown",
   "metadata": {},
   "source": [
    "# Función input\n",
    "\n",
    "La función ``input()`` permite obtener texto escrito por teclado. Al llegar a la función, el programa se detiene esperando que se escriba algo y se pulse la tecla ``Enter (Intro)``"
   ]
  },
  {
   "cell_type": "markdown",
   "metadata": {},
   "source": [
    "## Ejemplo"
   ]
  },
  {
   "cell_type": "code",
   "execution_count": 1,
   "metadata": {},
   "outputs": [
    {
     "name": "stdout",
     "output_type": "stream",
     "text": [
      "¿Cómo te llamas?\n"
     ]
    },
    {
     "name": "stdin",
     "output_type": "stream",
     "text": [
      " Alejandra\n"
     ]
    },
    {
     "name": "stdout",
     "output_type": "stream",
     "text": [
      "Hola Alejandra, es un gusto saludarte\n"
     ]
    }
   ],
   "source": [
    "# preguntarle al usuario cómo se llama\n",
    "print(\"¿Cómo te llamas?\")\n",
    "# guardar la información en la variable nombre\n",
    "nombre = input()\n",
    "# mostrar en pantalla el nombre ingresado por el usuario\n",
    "print(f\"Hola {nombre}, es un gusto saludarte\")"
   ]
  },
  {
   "cell_type": "markdown",
   "metadata": {},
   "source": [
    "En el ejemplo anterior, el usuario escribe su respuesta en una línea distinta a la pregunta. Python añade un salto de línea al final de cada ``print()``.\n",
    "\n",
    "Si se prefiere que el usuario escriba su respuesta a continuación de la pregunta, se podría utilizar el argumento opcional ``end`` en la función ``print()``, que indica el carácter o caracteres a utilizar en vez del salto de línea."
   ]
  },
  {
   "cell_type": "code",
   "execution_count": 2,
   "metadata": {},
   "outputs": [
    {
     "name": "stdout",
     "output_type": "stream",
     "text": [
      "¿Cómo te llamas? "
     ]
    },
    {
     "name": "stdin",
     "output_type": "stream",
     "text": [
      " Felipe\n"
     ]
    },
    {
     "name": "stdout",
     "output_type": "stream",
     "text": [
      "Hola Felipe, es un gusto saludarte\n"
     ]
    }
   ],
   "source": [
    "# preguntarle al usuario cómo se llama\n",
    "print(\"¿Cómo te llamas? \", end=\"\")\n",
    "# guardar la información en la variable nombre\n",
    "nombre = input()\n",
    "# mostrar en pantalla el nombre ingresado por el usuario\n",
    "print(f\"Hola {nombre}, es un gusto saludarte\")"
   ]
  },
  {
   "cell_type": "markdown",
   "metadata": {},
   "source": [
    "Otra solución, más compacta, es aprovechar que a la función ``input()`` se le puede enviar un argumento que se escribe en la pantalla (sin añadir un salto de línea)"
   ]
  },
  {
   "cell_type": "code",
   "execution_count": 3,
   "metadata": {},
   "outputs": [
    {
     "name": "stdin",
     "output_type": "stream",
     "text": [
      "¿Cómo te llamas?  Ana María\n"
     ]
    },
    {
     "name": "stdout",
     "output_type": "stream",
     "text": [
      "Hola Ana María, es un gusto saludarte\n"
     ]
    }
   ],
   "source": [
    "# preguntarle al usuario cómo se llama y guardar la información en la variable nombre\n",
    "nombre = input(\"¿Cómo te llamas? \")\n",
    "# mostrar en pantalla el nombre ingresado por el usuario\n",
    "print(f\"Hola {nombre}, es un gusto saludarte\")"
   ]
  },
  {
   "cell_type": "markdown",
   "metadata": {},
   "source": [
    "## Conversión de tipos\n",
    "\n",
    "De forma predeterminada, la función ``input()`` convierte la entrada en una cadena, aunque escribamos un número. Para convertir el texto realizar *casting*"
   ]
  },
  {
   "cell_type": "code",
   "execution_count": 4,
   "metadata": {},
   "outputs": [
    {
     "name": "stdin",
     "output_type": "stream",
     "text": [
      "¿Cómo te llamas?  Alexander\n",
      "Alexander, ¿cuál es tu edad?  26\n"
     ]
    },
    {
     "name": "stdout",
     "output_type": "stream",
     "text": [
      "Hola Alexander, tu edad es 26 año(s)\n"
     ]
    }
   ],
   "source": [
    "# preguntarle al usuario cómo se llama y guardar la información en la variable nombre\n",
    "nombre = input(\"¿Cómo te llamas? \")\n",
    "# preguntarle al usuairo su edad. Lo vamos a convertir a int\n",
    "edad = int(input(f\"{nombre}, ¿cuál es tu edad? \"))\n",
    "# mostrar el nombre y la edad del usuario\n",
    "print(f\"Hola {nombre}, tu edad es {edad} año(s)\")"
   ]
  },
  {
   "cell_type": "markdown",
   "metadata": {},
   "source": [
    "Validar el tipo de datos para la variables ``nombre`` y ``edad``"
   ]
  },
  {
   "cell_type": "code",
   "execution_count": 5,
   "metadata": {},
   "outputs": [
    {
     "data": {
      "text/plain": [
       "str"
      ]
     },
     "execution_count": 5,
     "metadata": {},
     "output_type": "execute_result"
    }
   ],
   "source": [
    "type(nombre)"
   ]
  },
  {
   "cell_type": "code",
   "execution_count": 6,
   "metadata": {},
   "outputs": [
    {
     "data": {
      "text/plain": [
       "int"
      ]
     },
     "execution_count": 6,
     "metadata": {},
     "output_type": "execute_result"
    }
   ],
   "source": [
    "type(edad)"
   ]
  }
 ],
 "metadata": {
  "kernelspec": {
   "display_name": "Python 3",
   "language": "python",
   "name": "python3"
  },
  "language_info": {
   "codemirror_mode": {
    "name": "ipython",
    "version": 3
   },
   "file_extension": ".py",
   "mimetype": "text/x-python",
   "name": "python",
   "nbconvert_exporter": "python",
   "pygments_lexer": "ipython3",
   "version": "3.7.6"
  }
 },
 "nbformat": 4,
 "nbformat_minor": 4
}
