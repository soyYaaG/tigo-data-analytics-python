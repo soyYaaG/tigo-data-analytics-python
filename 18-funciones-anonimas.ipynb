{
 "cells": [
  {
   "cell_type": "markdown",
   "metadata": {},
   "source": [
    "# Funciones Anónimas o Funciones lambda\n",
    "Las funciones lambda, a las que también se les conoce como funciones anónimas, es una forma de definir funciones en línea. No es una técnica propia de Python ya que se encuentran disponibles en muchos lenguajes de programación. Al definir las funciones en una línea estas se pueden aplicar a un conjunto de datos y unir posteriormente lo resultados. No siendo necesario asignar un identificador a la función, de ahí el nombre de funciones anónimas.\n",
    "\n",
    "Sintaxis de función lambda o función anónima en python\n",
    "\n",
    "```\n",
    "nombre_función = lambda parámetros : sentencia return [expresión]\n",
    "```\n",
    "\n",
    "**nombre_función:** es el nombre que debemos usar cada vez que vamos a usar la función.<br />\n",
    "**parámetros:** es la lista de parámetros que puede recibir una función.<br />\n",
    "**sentencia:** bloque de código que realiza cierta operación.<br />\n",
    "**return:** es la sentencia *return* en código python.<br />\n",
    "**expresión:** es la expresión o variable que devuelve la sentencia return.\n",
    "\n",
    "Se trata de crear funciones de manera rápida, *just in time*, sobre la marcha, para prototipos ligeros que requieren únicamente de una pequeña operación o comprobación. Por lo tanto, toda función lambda también puede expresarse como una convencional (pero no viceversa)."
   ]
  },
  {
   "cell_type": "markdown",
   "metadata": {},
   "source": [
    "## Ejemplo"
   ]
  },
  {
   "cell_type": "code",
   "execution_count": 1,
   "metadata": {},
   "outputs": [],
   "source": [
    "suma = lambda a, b : a + b"
   ]
  },
  {
   "cell_type": "markdown",
   "metadata": {},
   "source": [
    "Ahora llamamos la función"
   ]
  },
  {
   "cell_type": "code",
   "execution_count": 2,
   "metadata": {},
   "outputs": [
    {
     "data": {
      "text/plain": [
       "20"
      ]
     },
     "execution_count": 2,
     "metadata": {},
     "output_type": "execute_result"
    }
   ],
   "source": [
    "suma(5, 15)"
   ]
  },
  {
   "cell_type": "code",
   "execution_count": 3,
   "metadata": {},
   "outputs": [],
   "source": [
    "mayor = lambda a, b : a if a > b else b"
   ]
  },
  {
   "cell_type": "code",
   "execution_count": 4,
   "metadata": {},
   "outputs": [
    {
     "data": {
      "text/plain": [
       "10"
      ]
     },
     "execution_count": 4,
     "metadata": {},
     "output_type": "execute_result"
    }
   ],
   "source": [
    "mayor(10, 6)"
   ]
  },
  {
   "cell_type": "code",
   "execution_count": 5,
   "metadata": {},
   "outputs": [
    {
     "data": {
      "text/plain": [
       "5"
      ]
     },
     "execution_count": 5,
     "metadata": {},
     "output_type": "execute_result"
    }
   ],
   "source": [
    "mayor(-1, 5)"
   ]
  }
 ],
 "metadata": {
  "kernelspec": {
   "display_name": "Python 3",
   "language": "python",
   "name": "python3"
  },
  "language_info": {
   "codemirror_mode": {
    "name": "ipython",
    "version": 3
   },
   "file_extension": ".py",
   "mimetype": "text/x-python",
   "name": "python",
   "nbconvert_exporter": "python",
   "pygments_lexer": "ipython3",
   "version": "3.7.6"
  }
 },
 "nbformat": 4,
 "nbformat_minor": 4
}
